{
 "cells": [
  {
   "cell_type": "code",
   "execution_count": 2,
   "metadata": {
    "collapsed": true
   },
   "outputs": [],
   "source": [
    "import os\n",
    "import boto3"
   ]
  },
  {
   "cell_type": "code",
   "execution_count": 3,
   "metadata": {
    "collapsed": false
   },
   "outputs": [],
   "source": [
    "session = boto3.Session(profile_name='aws-dev')\n",
    "s3 = session.client('s3')"
   ]
  },
  {
   "cell_type": "code",
   "execution_count": 4,
   "metadata": {
    "collapsed": false
   },
   "outputs": [
    {
     "data": {
      "text/plain": [
       "{'Buckets': [{'CreationDate': datetime.datetime(2016, 11, 18, 11, 32, 8, tzinfo=tzutc()),\n",
       "   'Name': 'nicor-data-samples'}],\n",
       " 'Owner': {'DisplayName': 'ing.nicola.corda',\n",
       "  'ID': 'bb03787e8cd13dbb3c01a1acec8801f4cc14d93265934c59ce52a63af7d2fb09'},\n",
       " 'ResponseMetadata': {'HTTPHeaders': {'content-type': 'application/xml',\n",
       "   'date': 'Wed, 04 Jan 2017 17:20:45 GMT',\n",
       "   'server': 'AmazonS3',\n",
       "   'transfer-encoding': 'chunked',\n",
       "   'x-amz-id-2': 'udqDRkVB4tijPMtewFDBHTp4j+zA8ELVZg61y6AlOOSAeGtGv6DUae9XklJhLTPHUiVw28+ufxE=',\n",
       "   'x-amz-request-id': '3D32D86D76535C07'},\n",
       "  'HTTPStatusCode': 200,\n",
       "  'HostId': 'udqDRkVB4tijPMtewFDBHTp4j+zA8ELVZg61y6AlOOSAeGtGv6DUae9XklJhLTPHUiVw28+ufxE=',\n",
       "  'RequestId': '3D32D86D76535C07',\n",
       "  'RetryAttempts': 0}}"
      ]
     },
     "execution_count": 4,
     "metadata": {},
     "output_type": "execute_result"
    }
   ],
   "source": [
    "s3.list_buckets()"
   ]
  },
  {
   "cell_type": "code",
   "execution_count": null,
   "metadata": {
    "collapsed": true
   },
   "outputs": [],
   "source": []
  }
 ],
 "metadata": {
  "anaconda-cloud": {},
  "kernelspec": {
   "display_name": "Python [conda env:aws-dev]",
   "language": "python",
   "name": "conda-env-aws-dev-py"
  },
  "language_info": {
   "codemirror_mode": {
    "name": "ipython",
    "version": 3
   },
   "file_extension": ".py",
   "mimetype": "text/x-python",
   "name": "python",
   "nbconvert_exporter": "python",
   "pygments_lexer": "ipython3",
   "version": "3.5.2"
  }
 },
 "nbformat": 4,
 "nbformat_minor": 2
}
