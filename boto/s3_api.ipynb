{
 "cells": [
  {
   "cell_type": "code",
   "execution_count": 2,
   "metadata": {
    "collapsed": true
   },
   "outputs": [],
   "source": [
    "import os\n",
    "import boto3"
   ]
  },
  {
   "cell_type": "code",
   "execution_count": 3,
   "metadata": {
    "collapsed": false
   },
   "outputs": [],
   "source": [
    "session = boto3.Session(profile_name='nicor88-aws-dev')\n",
    "s3 = session.client('s3')"
   ]
  },
  {
   "cell_type": "code",
   "execution_count": 43,
   "metadata": {
    "collapsed": false
   },
   "outputs": [],
   "source": [
    "# retrieve buckets names\n",
    "# buckets = s3.list_buckets()\n",
    "buckets = [p['Name'] for p in s3.list_buckets()['Buckets']]"
   ]
  },
  {
   "cell_type": "code",
   "execution_count": 62,
   "metadata": {
    "collapsed": false
   },
   "outputs": [],
   "source": [
    "# retrive bucket content\n",
    "objs = s3.list_objects_v2(Bucket=buckets[0])['Contents']\n",
    "objs_keys = [o['Key'] for o in objs]"
   ]
  },
  {
   "cell_type": "code",
   "execution_count": 60,
   "metadata": {
    "collapsed": false
   },
   "outputs": [],
   "source": [
    "# retrive content of a bucket inside a folder\n",
    "bucket_name = 'nicor-data-samples'\n",
    "folder = 'samples/'\n",
    "objs_folder = s3.list_objects_v2(Bucket=bucket_name, Prefix=folder, Delimiter='/')\n",
    "objs_folder_content = [o['Key'] for o in objs_folder['Contents'] if o['Key'] != folder]"
   ]
  },
  {
   "cell_type": "code",
   "execution_count": null,
   "metadata": {
    "collapsed": true
   },
   "outputs": [],
   "source": [
    "# TODO retrive file content and infos"
   ]
  }
 ],
 "metadata": {
  "anaconda-cloud": {},
  "kernelspec": {
   "display_name": "Python [conda env:aws-dev]",
   "language": "python",
   "name": "conda-env-aws-dev-py"
  },
  "language_info": {
   "codemirror_mode": {
    "name": "ipython",
    "version": 3
   },
   "file_extension": ".py",
   "mimetype": "text/x-python",
   "name": "python",
   "nbconvert_exporter": "python",
   "pygments_lexer": "ipython3",
   "version": "3.5.2"
  }
 },
 "nbformat": 4,
 "nbformat_minor": 2
}
